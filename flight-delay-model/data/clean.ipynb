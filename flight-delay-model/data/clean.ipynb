{
 "cells": [
  {
   "cell_type": "code",
   "execution_count": 2,
   "metadata": {},
   "outputs": [],
   "source": [
    "import pandas as pd"
   ]
  },
  {
   "cell_type": "code",
   "execution_count": 21,
   "metadata": {},
   "outputs": [
    {
     "name": "stderr",
     "output_type": "stream",
     "text": [
      "c:\\Users\\reach\\anaconda3\\lib\\site-packages\\IPython\\core\\interactiveshell.py:3457: DtypeWarning: Columns (48,76,77,84) have mixed types.Specify dtype option on import or set low_memory=False.\n",
      "  exec(code_obj, self.user_global_ns, self.user_ns)\n"
     ]
    }
   ],
   "source": [
    "filename = 'sep'\n",
    "df = pd.read_csv(f'dirty data/sep.csv')"
   ]
  },
  {
   "cell_type": "code",
   "execution_count": 12,
   "metadata": {},
   "outputs": [],
   "source": [
    "df_div = df.filter(like=\"Div\")\n",
    "removable = list(df_div.columns)\n",
    "df = df.drop(removable, axis=1)\n",
    "df = df.dropna(axis=1, how='all')"
   ]
  },
  {
   "cell_type": "code",
   "execution_count": 13,
   "metadata": {},
   "outputs": [],
   "source": [
    "removables = [\n",
    "    'Year','Tail_Number', 'OriginAirportID',\n",
    "    'OriginAirportSeqID','OriginCityMarketID','OriginCityName',\n",
    "    'OriginState','OriginStateFips','OriginStateName','OriginWac', \n",
    "    'DestAirportID','DestAirportSeqID','DestCityMarketID',\n",
    "    'DestCityName','DestState','DestStateFips','DestStateName',\n",
    "    'DestWac','DepTime', 'DepDelayMinutes', 'DepDel15',\n",
    "    'DepartureDelayGroups','DepTimeBlk','WheelsOff','WheelsOn',\n",
    "    'CRSArrTime','ArrTime','ArrDelay','ArrDelayMinutes','ArrDel15',\n",
    "    'ArrivalDelayGroups','ArrTimeBlk','Cancelled','CancellationCode',\n",
    "    'Flights','CarrierDelay','WeatherDelay','NASDelay',\n",
    "    'SecurityDelay','LateAircraftDelay','FirstDepTime',\n",
    "    'TotalAddGTime','LongestAddGTime'\n",
    "]\n",
    "for remove in removables:\n",
    "    try:\n",
    "        df = df.drop(remove, axis=1)\n",
    "    except Exception as e:\n",
    "        print(f'Already Removed {remove} or {e}')"
   ]
  },
  {
   "cell_type": "code",
   "execution_count": 14,
   "metadata": {},
   "outputs": [],
   "source": [
    "def get_data_by_airport(df: pd.DataFrame, city: str) -> pd.DataFrame:\n",
    "    return df[(df['Origin'].str.contains(city) == True)]"
   ]
  },
  {
   "cell_type": "code",
   "execution_count": 15,
   "metadata": {},
   "outputs": [],
   "source": [
    "cities = ['JFK', 'DFW', 'MCO', 'LAX', 'SEA']\n",
    "cleaned_df = pd.DataFrame()\n",
    "for city in cities:\n",
    "    cleaned_df = cleaned_df.append(get_data_by_airport(df, city))\n",
    "\n",
    "df = cleaned_df"
   ]
  },
  {
   "cell_type": "code",
   "execution_count": 19,
   "metadata": {},
   "outputs": [],
   "source": [
    "df = df.reset_index(drop=True)\n",
    "df = df.dropna(how='any')\n",
    "df.to_csv(f'less dirty/{filename}.csv')"
   ]
  }
 ],
 "metadata": {
  "kernelspec": {
   "display_name": "Python 3.9.7 ('base')",
   "language": "python",
   "name": "python3"
  },
  "language_info": {
   "codemirror_mode": {
    "name": "ipython",
    "version": 3
   },
   "file_extension": ".py",
   "mimetype": "text/x-python",
   "name": "python",
   "nbconvert_exporter": "python",
   "pygments_lexer": "ipython3",
   "version": "3.9.7"
  },
  "orig_nbformat": 4,
  "vscode": {
   "interpreter": {
    "hash": "cc1d659a2716a17587a0ebb7437b558000400df242714a572373d2da3ca6f789"
   }
  }
 },
 "nbformat": 4,
 "nbformat_minor": 2
}
