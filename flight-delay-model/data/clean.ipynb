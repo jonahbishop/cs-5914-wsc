{
 "cells": [
  {
   "cell_type": "code",
   "execution_count": 20,
   "metadata": {},
   "outputs": [],
   "source": [
    "import pandas as pd"
   ]
  },
  {
   "cell_type": "code",
   "execution_count": 75,
   "metadata": {},
   "outputs": [
    {
     "name": "stderr",
     "output_type": "stream",
     "text": [
      "/tmp/ipykernel_75841/2538193435.py:2: DtypeWarning: Columns (48,76,77,84) have mixed types. Specify dtype option on import or set low_memory=False.\n",
      "  df = pd.read_csv(f'/mydata/wss-project-files/flight-delay-model/data/dirty data/{filename}.csv')\n"
     ]
    }
   ],
   "source": [
    "filename = 'sep'\n",
    "df = pd.read_csv(f'/mydata/wss-project-files/flight-delay-model/data/dirty data/{filename}.csv')"
   ]
  },
  {
   "cell_type": "code",
   "execution_count": 76,
   "metadata": {},
   "outputs": [],
   "source": [
    "df_div = df.filter(like=\"Div\")\n",
    "removable = list(df_div.columns)\n",
    "df = df.drop(removable, axis=1)\n",
    "df = df.dropna(axis=1, how='all')"
   ]
  },
  {
   "cell_type": "code",
   "execution_count": 77,
   "metadata": {},
   "outputs": [],
   "source": [
    "removables = [\n",
    "    'Year','Tail_Number', 'OriginAirportID',\n",
    "    'OriginAirportSeqID','OriginCityMarketID','OriginCityName',\n",
    "    'OriginState','OriginStateFips','OriginStateName','OriginWac', \n",
    "    'DestAirportID','DestAirportSeqID','DestCityMarketID',\n",
    "    'DestCityName','DestState','DestStateFips','DestStateName',\n",
    "    'DestWac','DepTime', 'DepDelayMinutes', 'DepDel15',\n",
    "    'DepartureDelayGroups','DepTimeBlk','WheelsOff','WheelsOn',\n",
    "    'CRSArrTime','ArrTime','ArrDelay','ArrDelayMinutes','ArrDel15',\n",
    "    'ArrivalDelayGroups','ArrTimeBlk','Cancelled','CancellationCode',\n",
    "    'Flights','CarrierDelay','WeatherDelay','NASDelay',\n",
    "    'SecurityDelay','LateAircraftDelay','FirstDepTime',\n",
    "    'TotalAddGTime','LongestAddGTime'\n",
    "]\n",
    "for remove in removables:\n",
    "    try:\n",
    "        df = df.drop(remove, axis=1)\n",
    "    except Exception as e:\n",
    "        print(f'Already Removed {remove} or {e}')"
   ]
  },
  {
   "cell_type": "code",
   "execution_count": 78,
   "metadata": {},
   "outputs": [],
   "source": [
    "def get_data_by_airport(df: pd.DataFrame, city: str) -> pd.DataFrame:\n",
    "    return df[(df['Origin'].str.contains(city) == True)]"
   ]
  },
  {
   "cell_type": "code",
   "execution_count": 79,
   "metadata": {},
   "outputs": [
    {
     "name": "stderr",
     "output_type": "stream",
     "text": [
      "/tmp/ipykernel_75841/3979620684.py:4: FutureWarning: The frame.append method is deprecated and will be removed from pandas in a future version. Use pandas.concat instead.\n",
      "  cleaned_df = cleaned_df.append(get_data_by_airport(df, city))\n",
      "/tmp/ipykernel_75841/3979620684.py:4: FutureWarning: The frame.append method is deprecated and will be removed from pandas in a future version. Use pandas.concat instead.\n",
      "  cleaned_df = cleaned_df.append(get_data_by_airport(df, city))\n",
      "/tmp/ipykernel_75841/3979620684.py:4: FutureWarning: The frame.append method is deprecated and will be removed from pandas in a future version. Use pandas.concat instead.\n",
      "  cleaned_df = cleaned_df.append(get_data_by_airport(df, city))\n",
      "/tmp/ipykernel_75841/3979620684.py:4: FutureWarning: The frame.append method is deprecated and will be removed from pandas in a future version. Use pandas.concat instead.\n",
      "  cleaned_df = cleaned_df.append(get_data_by_airport(df, city))\n",
      "/tmp/ipykernel_75841/3979620684.py:4: FutureWarning: The frame.append method is deprecated and will be removed from pandas in a future version. Use pandas.concat instead.\n",
      "  cleaned_df = cleaned_df.append(get_data_by_airport(df, city))\n"
     ]
    }
   ],
   "source": [
    "cities = ['JFK', 'DFW', 'MCO', 'LAX', 'SEA']\n",
    "cleaned_df = pd.DataFrame()\n",
    "for city in cities:\n",
    "    cleaned_df = cleaned_df.append(get_data_by_airport(df, city))\n",
    "\n",
    "df = cleaned_df"
   ]
  },
  {
   "cell_type": "code",
   "execution_count": 80,
   "metadata": {},
   "outputs": [],
   "source": [
    "df = df.reset_index(drop=True)\n",
    "df = df.dropna(how='any')\n",
    "df.to_csv(f'/mydata/wss-project-files/flight-delay-model/data/less dirty/{filename}.csv')"
   ]
  }
 ],
 "metadata": {
  "kernelspec": {
   "display_name": "Python 3 (ipykernel)",
   "language": "python",
   "name": "python3"
  },
  "language_info": {
   "name": "python",
   "version": "3.8.10"
  },
  "orig_nbformat": 4,
  "vscode": {
   "interpreter": {
    "hash": "c07d2e75d0ea529b7f507ad4ca95a3bde5feb9750d77ae84c4d0e69865b98310"
   }
  }
 },
 "nbformat": 4,
 "nbformat_minor": 2
}
