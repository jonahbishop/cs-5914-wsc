{
 "cells": [
  {
   "cell_type": "code",
   "execution_count": 1,
   "metadata": {},
   "outputs": [],
   "source": [
    "import pandas as pd"
   ]
  },
  {
   "cell_type": "code",
   "execution_count": 2,
   "metadata": {},
   "outputs": [],
   "source": [
    "def get_data_by_airport(df: pd.DataFrame, city: str) -> pd.DataFrame:\n",
    "    return df[(df['Origin'].str.contains(city) == True)]\n"
   ]
  },
  {
   "cell_type": "code",
   "execution_count": 3,
   "metadata": {},
   "outputs": [],
   "source": [
    "def one_hot_encode(df: pd.DataFrame, column_name: str) -> pd.DataFrame:\n",
    "    try:\n",
    "        dummy1 = pd.get_dummies(df[column_name])\n",
    "        dummy1 = dummy1.add_prefix(f\"{column_name} - \")\n",
    "        df = pd.concat([df, dummy1], axis=1).drop(column_name, axis=1)\n",
    "        df.head()\n",
    "    except Exception as e:\n",
    "        print(f\"Error in one_hot_encode: {e}\")\n",
    "    return df"
   ]
  },
  {
   "cell_type": "code",
   "execution_count": 4,
   "metadata": {},
   "outputs": [],
   "source": [
    "weather_df = pd.read_csv('weather_data.csv')"
   ]
  },
  {
   "cell_type": "code",
   "execution_count": 5,
   "metadata": {},
   "outputs": [],
   "source": [
    "names = {\n",
    "    'LOS ANGELES INTERNATIONAL AIRPORT, CA US': 'LAX',\n",
    "    'SEATTLE TACOMA AIRPORT, WA US': 'SEA',\n",
    "    'ORLANDO INTERNATIONAL AIRPORT, FL US': 'MCO',\n",
    "    'BUENA VENTURA LAKES 6.0 ENE, FL US': 'MCO',\n",
    "    'DAL FTW WSCMO AIRPORT, TX US': 'DFW',\n",
    "    'JFK INTERNATIONAL AIRPORT, NY US': 'JFK',\n",
    "}\n",
    "weather_df['NAME'] = [names[var] for var in weather_df['NAME']]"
   ]
  },
  {
   "cell_type": "code",
   "execution_count": 6,
   "metadata": {},
   "outputs": [],
   "source": [
    "weather_removables = [\n",
    "    'STATION','AWND_ATTRIBUTES','DAPR','DAPR_ATTRIBUTES','MDPR',\n",
    "    'MDPR_ATTRIBUTES','PGTM', 'PGTM_ATTRIBUTES','TAVG_ATTRIBUTES',\n",
    "    'TMAX_ATTRIBUTES','TMIN_ATTRIBUTES','WDF2_ATTRIBUTES','WDF5_ATTRIBUTES',\n",
    "    'WSF2_ATTRIBUTES','WSF5_ATTRIBUTES','WT01','WT02','WT03','WT04','WT05',\n",
    "    'WT05_ATTRIBUTES','WT06','WT06_ATTRIBUTES','WT07','WT07_ATTRIBUTES',\n",
    "    'WT08','WT09','WT09_ATTRIBUTES' \n",
    "]\n",
    "for remove in weather_removables:\n",
    "    try:\n",
    "        weather_df = weather_df.drop(remove, axis=1)\n",
    "    except Exception as e:\n",
    "        print(f'Already Removed {remove} or {e}')"
   ]
  },
  {
   "cell_type": "code",
   "execution_count": 7,
   "metadata": {},
   "outputs": [],
   "source": [
    "weather_one_hot_columns = [\n",
    "    'PRCP_ATTRIBUTES','SNOW_ATTRIBUTES','SNWD_ATTRIBUTES','WT01_ATTRIBUTES',\n",
    "    'WT02_ATTRIBUTES','WT03_ATTRIBUTES','WT04_ATTRIBUTES','WT08_ATTRIBUTES'\n",
    "]\n",
    "for col in weather_one_hot_columns:\n",
    "    weather_df = one_hot_encode(weather_df, col)"
   ]
  },
  {
   "cell_type": "code",
   "execution_count": 8,
   "metadata": {},
   "outputs": [],
   "source": [
    "weather_df['DATE'] = pd.to_datetime(weather_df['DATE'])"
   ]
  },
  {
   "cell_type": "code",
   "execution_count": 10,
   "metadata": {},
   "outputs": [],
   "source": [
    "weather_df.to_csv('clean data/clean_weather.csv')"
   ]
  }
 ],
 "metadata": {
  "kernelspec": {
   "display_name": "Python 3.9.7 ('base')",
   "language": "python",
   "name": "python3"
  },
  "language_info": {
   "codemirror_mode": {
    "name": "ipython",
    "version": 3
   },
   "file_extension": ".py",
   "mimetype": "text/x-python",
   "name": "python",
   "nbconvert_exporter": "python",
   "pygments_lexer": "ipython3",
   "version": "3.9.7"
  },
  "orig_nbformat": 4,
  "vscode": {
   "interpreter": {
    "hash": "cc1d659a2716a17587a0ebb7437b558000400df242714a572373d2da3ca6f789"
   }
  }
 },
 "nbformat": 4,
 "nbformat_minor": 2
}
