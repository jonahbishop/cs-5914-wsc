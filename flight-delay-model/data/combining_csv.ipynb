{
 "cells": [
  {
   "cell_type": "code",
   "execution_count": 4,
   "metadata": {},
   "outputs": [],
   "source": [
    "import pandas as pd"
   ]
  },
  {
   "cell_type": "code",
   "execution_count": 5,
   "metadata": {},
   "outputs": [],
   "source": [
    "# my_list = os.listdir('cleaned_airline_data/clean_merge_*.csv')\n",
    "my_list = [\n",
    "    'jan','feb','mar','apr','may','jun','jul','aug','sep','oct','nov','dec'\n",
    "]"
   ]
  },
  {
   "cell_type": "code",
   "execution_count": 6,
   "metadata": {},
   "outputs": [
    {
     "name": "stdout",
     "output_type": "stream",
     "text": [
      "['/mydata/wss-project-files/flight-delay-model/data/less dirty/jan.csv', '/mydata/wss-project-files/flight-delay-model/data/less dirty/feb.csv', '/mydata/wss-project-files/flight-delay-model/data/less dirty/mar.csv', '/mydata/wss-project-files/flight-delay-model/data/less dirty/apr.csv', '/mydata/wss-project-files/flight-delay-model/data/less dirty/may.csv', '/mydata/wss-project-files/flight-delay-model/data/less dirty/jun.csv', '/mydata/wss-project-files/flight-delay-model/data/less dirty/jul.csv', '/mydata/wss-project-files/flight-delay-model/data/less dirty/aug.csv', '/mydata/wss-project-files/flight-delay-model/data/less dirty/sep.csv', '/mydata/wss-project-files/flight-delay-model/data/less dirty/oct.csv', '/mydata/wss-project-files/flight-delay-model/data/less dirty/nov.csv', '/mydata/wss-project-files/flight-delay-model/data/less dirty/dec.csv']\n"
     ]
    }
   ],
   "source": [
    "files = []\n",
    "for file in my_list:\n",
    "    files.append(f\"/mydata/wss-project-files/flight-delay-model/data/less dirty/{file}.csv\")\n",
    "print(files)"
   ]
  },
  {
   "cell_type": "code",
   "execution_count": 8,
   "metadata": {},
   "outputs": [
    {
     "name": "stderr",
     "output_type": "stream",
     "text": [
      "/tmp/ipykernel_85245/866866712.py:4: FutureWarning: The frame.append method is deprecated and will be removed from pandas in a future version. Use pandas.concat instead.\n",
      "  full_df = full_df.append(df)\n",
      "/tmp/ipykernel_85245/866866712.py:4: FutureWarning: The frame.append method is deprecated and will be removed from pandas in a future version. Use pandas.concat instead.\n",
      "  full_df = full_df.append(df)\n",
      "/tmp/ipykernel_85245/866866712.py:4: FutureWarning: The frame.append method is deprecated and will be removed from pandas in a future version. Use pandas.concat instead.\n",
      "  full_df = full_df.append(df)\n",
      "/tmp/ipykernel_85245/866866712.py:4: FutureWarning: The frame.append method is deprecated and will be removed from pandas in a future version. Use pandas.concat instead.\n",
      "  full_df = full_df.append(df)\n",
      "/tmp/ipykernel_85245/866866712.py:4: FutureWarning: The frame.append method is deprecated and will be removed from pandas in a future version. Use pandas.concat instead.\n",
      "  full_df = full_df.append(df)\n",
      "/tmp/ipykernel_85245/866866712.py:4: FutureWarning: The frame.append method is deprecated and will be removed from pandas in a future version. Use pandas.concat instead.\n",
      "  full_df = full_df.append(df)\n",
      "/tmp/ipykernel_85245/866866712.py:4: FutureWarning: The frame.append method is deprecated and will be removed from pandas in a future version. Use pandas.concat instead.\n",
      "  full_df = full_df.append(df)\n",
      "/tmp/ipykernel_85245/866866712.py:4: FutureWarning: The frame.append method is deprecated and will be removed from pandas in a future version. Use pandas.concat instead.\n",
      "  full_df = full_df.append(df)\n",
      "/tmp/ipykernel_85245/866866712.py:4: FutureWarning: The frame.append method is deprecated and will be removed from pandas in a future version. Use pandas.concat instead.\n",
      "  full_df = full_df.append(df)\n",
      "/tmp/ipykernel_85245/866866712.py:4: FutureWarning: The frame.append method is deprecated and will be removed from pandas in a future version. Use pandas.concat instead.\n",
      "  full_df = full_df.append(df)\n",
      "/tmp/ipykernel_85245/866866712.py:4: FutureWarning: The frame.append method is deprecated and will be removed from pandas in a future version. Use pandas.concat instead.\n",
      "  full_df = full_df.append(df)\n",
      "/tmp/ipykernel_85245/866866712.py:4: FutureWarning: The frame.append method is deprecated and will be removed from pandas in a future version. Use pandas.concat instead.\n",
      "  full_df = full_df.append(df)\n"
     ]
    }
   ],
   "source": [
    "full_df = pd.DataFrame()\n",
    "for file in files:\n",
    "    df = pd.read_csv(file)\n",
    "    full_df = full_df.append(df)"
   ]
  },
  {
   "cell_type": "code",
   "execution_count": 9,
   "metadata": {},
   "outputs": [],
   "source": [
    "full_df.to_csv('/mydata/wss-project-files/flight-delay-model/data/full.csv')"
   ]
  }
 ],
 "metadata": {
  "kernelspec": {
   "display_name": "Python 3 (ipykernel)",
   "language": "python",
   "name": "python3"
  },
  "language_info": {
   "codemirror_mode": {
    "name": "ipython",
    "version": 3
   },
   "file_extension": ".py",
   "mimetype": "text/x-python",
   "name": "python",
   "nbconvert_exporter": "python",
   "pygments_lexer": "ipython3",
   "version": "3.8.10"
  },
  "orig_nbformat": 4,
  "vscode": {
   "interpreter": {
    "hash": "cc1d659a2716a17587a0ebb7437b558000400df242714a572373d2da3ca6f789"
   }
  }
 },
 "nbformat": 4,
 "nbformat_minor": 2
}
