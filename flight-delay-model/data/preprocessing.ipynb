{
 "cells": [
  {
   "cell_type": "code",
   "execution_count": 162,
   "metadata": {},
   "outputs": [],
   "source": [
    "import pandas as pd"
   ]
  },
  {
   "cell_type": "code",
   "execution_count": 163,
   "metadata": {},
   "outputs": [],
   "source": [
    "df = pd.read_csv('/mydata/wss-project-files/flight-delay-model/data/full.csv')\n",
    "df = df.reset_index(drop=True)"
   ]
  },
  {
   "cell_type": "code",
   "execution_count": 164,
   "metadata": {},
   "outputs": [],
   "source": [
    "def one_hot_encode(df: pd.DataFrame, column_name: str) -> pd.DataFrame:\n",
    "    try:\n",
    "        dummy1 = pd.get_dummies(df[column_name])\n",
    "        dummy1 = dummy1.add_prefix(f\"{column_name} - \")\n",
    "        df = pd.concat([df, dummy1], axis=1).drop(column_name, axis=1)\n",
    "        df.head()\n",
    "    except Exception as e:\n",
    "        print(f\"Error in one_hot_encode: {e}\")\n",
    "    return df"
   ]
  },
  {
   "cell_type": "code",
   "execution_count": 165,
   "metadata": {},
   "outputs": [],
   "source": [
    "one_hot_columns = [\n",
    "    'Reporting_Airline', 'IATA_CODE_Reporting_Airline', 'DOT_ID_Reporting_Airline', 'Dest'\n",
    "    ]\n",
    "for col in one_hot_columns:\n",
    "    df = one_hot_encode(df, col)"
   ]
  },
  {
   "cell_type": "code",
   "execution_count": 166,
   "metadata": {},
   "outputs": [],
   "source": [
    "df = df.rename(columns={'Origin':'NAME', 'FlightDate':'DATE'})"
   ]
  },
  {
   "cell_type": "code",
   "execution_count": 167,
   "metadata": {},
   "outputs": [],
   "source": [
    "df['DATE'] = pd.to_datetime(df['DATE'])"
   ]
  },
  {
   "cell_type": "code",
   "execution_count": 168,
   "metadata": {},
   "outputs": [],
   "source": [
    "def join_by_date(df: pd.DataFrame, weather_df: pd.DataFrame, airport_name: str):\n",
    "    tmp = df.loc[df['NAME'] == airport_name]\n",
    "    tmp = tmp.drop(['NAME'], axis=1)\n",
    "    weather_tmp = weather_df.loc[weather_df['NAME'] == airport_name]\n",
    "    return pd.merge(tmp, weather_tmp, how='outer', on='DATE')"
   ]
  },
  {
   "cell_type": "markdown",
   "metadata": {},
   "source": [
    "## Skip next frame if not merging with weather data"
   ]
  },
  {
   "cell_type": "code",
   "execution_count": 169,
   "metadata": {},
   "outputs": [
    {
     "name": "stderr",
     "output_type": "stream",
     "text": [
      "/tmp/ipykernel_83369/1151508563.py:6: FutureWarning: The frame.append method is deprecated and will be removed from pandas in a future version. Use pandas.concat instead.\n",
      "  cleaned_df = cleaned_df.append(join_by_date(df, weather_df, city))\n",
      "/tmp/ipykernel_83369/1151508563.py:6: FutureWarning: The frame.append method is deprecated and will be removed from pandas in a future version. Use pandas.concat instead.\n",
      "  cleaned_df = cleaned_df.append(join_by_date(df, weather_df, city))\n",
      "/tmp/ipykernel_83369/1151508563.py:6: FutureWarning: The frame.append method is deprecated and will be removed from pandas in a future version. Use pandas.concat instead.\n",
      "  cleaned_df = cleaned_df.append(join_by_date(df, weather_df, city))\n",
      "/tmp/ipykernel_83369/1151508563.py:6: FutureWarning: The frame.append method is deprecated and will be removed from pandas in a future version. Use pandas.concat instead.\n",
      "  cleaned_df = cleaned_df.append(join_by_date(df, weather_df, city))\n",
      "/tmp/ipykernel_83369/1151508563.py:6: FutureWarning: The frame.append method is deprecated and will be removed from pandas in a future version. Use pandas.concat instead.\n",
      "  cleaned_df = cleaned_df.append(join_by_date(df, weather_df, city))\n"
     ]
    }
   ],
   "source": [
    "cleaned_df = pd.DataFrame()\n",
    "weather_df = pd.read_csv('/mydata/wss-project-files/flight-delay-model/data/clean/clean_weather.csv')\n",
    "weather_df['DATE'] = pd.to_datetime(weather_df['DATE'])\n",
    "cities = ['JFK', 'DFW', 'MCO', 'LAX', 'SEA']\n",
    "for city in cities:\n",
    "    cleaned_df = cleaned_df.append(join_by_date(df, weather_df, city))\n"
   ]
  },
  {
   "cell_type": "markdown",
   "metadata": {},
   "source": [
    "## Skip next frame if you did not skip the previous"
   ]
  },
  {
   "cell_type": "code",
   "execution_count": 156,
   "metadata": {},
   "outputs": [],
   "source": [
    "cleaned_df = df"
   ]
  },
  {
   "cell_type": "code",
   "execution_count": 170,
   "metadata": {},
   "outputs": [],
   "source": [
    "cleaned_df = one_hot_encode(cleaned_df, 'NAME')"
   ]
  },
  {
   "cell_type": "code",
   "execution_count": 171,
   "metadata": {},
   "outputs": [],
   "source": [
    "cleaned_df['DepDelay'] = [0 if temp <= 0 else 1 for temp in cleaned_df['DepDelay']]\n",
    "cleaned_df['label'] = cleaned_df['DepDelay']\n",
    "cleaned_df = cleaned_df.drop('DepDelay', axis=1)"
   ]
  },
  {
   "cell_type": "code",
   "execution_count": 172,
   "metadata": {},
   "outputs": [],
   "source": [
    "columns = ['Unnamed: 0.1', 'Unnamed: 0_x', 'Unnamed: 0_y', 'Unnamed: 0', 'DATE']\n",
    "for col in columns:\n",
    "    try:\n",
    "        cleaned_df = cleaned_df.drop([col], axis=1)\n",
    "    except:\n",
    "        pass\n",
    "cleaned_df = cleaned_df.dropna(how='any')\n",
    "cleaned_df = cleaned_df.reset_index(drop=True)"
   ]
  },
  {
   "cell_type": "code",
   "execution_count": 173,
   "metadata": {},
   "outputs": [],
   "source": [
    "cleaned_df.to_csv('/mydata/wss-project-files/flight-delay-model/data/clean/clean_merge_full.csv')"
   ]
  }
 ],
 "metadata": {
  "kernelspec": {
   "display_name": "Python 3 (ipykernel)",
   "language": "python",
   "name": "python3"
  },
  "language_info": {
   "name": "python",
   "version": "3.8.10"
  },
  "orig_nbformat": 4,
  "vscode": {
   "interpreter": {
    "hash": "c07d2e75d0ea529b7f507ad4ca95a3bde5feb9750d77ae84c4d0e69865b98310"
   }
  }
 },
 "nbformat": 4,
 "nbformat_minor": 2
}
