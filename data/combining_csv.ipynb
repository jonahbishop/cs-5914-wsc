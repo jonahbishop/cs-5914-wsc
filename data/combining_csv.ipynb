{
 "cells": [
  {
   "cell_type": "code",
   "execution_count": 1,
   "metadata": {},
   "outputs": [],
   "source": [
    "import os\n",
    "import glob"
   ]
  },
  {
   "cell_type": "code",
   "execution_count": 6,
   "metadata": {},
   "outputs": [],
   "source": [
    "# my_list = os.listdir('cleaned_airline_data/clean_merge_*.csv')\n",
    "my_list = [\n",
    "    'jan','feb','mar','apr','may','jun','jul','aug','sep','oct','nov','dec'\n",
    "]"
   ]
  },
  {
   "cell_type": "code",
   "execution_count": 13,
   "metadata": {},
   "outputs": [
    {
     "name": "stdout",
     "output_type": "stream",
     "text": [
      "['cleaned_airline_data/clean_jan.csv', 'cleaned_airline_data/clean_feb.csv', 'cleaned_airline_data/clean_mar.csv', 'cleaned_airline_data/clean_apr.csv', 'cleaned_airline_data/clean_may.csv', 'cleaned_airline_data/clean_jun.csv', 'cleaned_airline_data/clean_jul.csv', 'cleaned_airline_data/clean_aug.csv', 'cleaned_airline_data/clean_sep.csv', 'cleaned_airline_data/clean_oct.csv', 'cleaned_airline_data/clean_nov.csv', 'cleaned_airline_data/clean_dec.csv']\n"
     ]
    }
   ],
   "source": [
    "files = []\n",
    "for file in my_list:\n",
    "    files.append(f\"cleaned_airline_data/clean_{file}.csv\")\n",
    "print(files)"
   ]
  },
  {
   "cell_type": "code",
   "execution_count": 24,
   "metadata": {},
   "outputs": [
    {
     "name": "stdout",
     "output_type": "stream",
     "text": [
      "['airline data/On_Time_Reporting_Carrier_On_Time_Performance_(1987_present)_2019_4.csv', 'airline data/On_Time_Reporting_Carrier_On_Time_Performance_(1987_present)_2019_8.csv', 'airline data/On_Time_Reporting_Carrier_On_Time_Performance_(1987_present)_2019_12.csv', 'airline data/On_Time_Reporting_Carrier_On_Time_Performance_(1987_present)_2019_2.csv', 'airline data/On_Time_Reporting_Carrier_On_Time_Performance_(1987_present)_2019_1.csv', 'airline data/On_Time_Reporting_Carrier_On_Time_Performance_(1987_present)_2019_7.csv', 'airline data/On_Time_Reporting_Carrier_On_Time_Performance_(1987_present)_2019_6.csv', 'airline data/On_Time_Reporting_Carrier_On_Time_Performance_(1987_present)_2019_3.csv', 'airline data/On_Time_Reporting_Carrier_On_Time_Performance_(1987_present)_2019_5.csv', 'airline data/On_Time_Reporting_Carrier_On_Time_Performance_(1987_present)_2019_11.csv', 'airline data/On_Time_Reporting_Carrier_On_Time_Performance_(1987_present)_2019_10.csv', 'airline data/On_Time_Reporting_Carrier_On_Time_Performance_(1987_present)_2019_9.csv']\n"
     ]
    }
   ],
   "source": [
    "my_files = []\n",
    "for file in files:\n",
    "    try:\n",
    "        file.remove(\"readme.html\")\n",
    "    except:\n",
    "        pass\n",
    "    my_files.append(f'airline data/{file[0]}')\n",
    "print(my_files)"
   ]
  },
  {
   "cell_type": "code",
   "execution_count": 14,
   "metadata": {},
   "outputs": [],
   "source": [
    "# csv_file_list = glob.glob('airline data' + '/*/*.csv')\n",
    "# print(csv_file_list)\n",
    "with open('clean_full' + '.csv','w') as wf:\n",
    "    for file in files:\n",
    "        with open(file) as rf:\n",
    "            for line in rf:\n",
    "                if line.strip(): # if line is not empty\n",
    "                    if not line.endswith(\"\\n\"):\n",
    "                        line+=\"\\n\"\n",
    "                    wf.write(line)"
   ]
  }
 ],
 "metadata": {
  "kernelspec": {
   "display_name": "Python 3.9.7 ('base')",
   "language": "python",
   "name": "python3"
  },
  "language_info": {
   "codemirror_mode": {
    "name": "ipython",
    "version": 3
   },
   "file_extension": ".py",
   "mimetype": "text/x-python",
   "name": "python",
   "nbconvert_exporter": "python",
   "pygments_lexer": "ipython3",
   "version": "3.9.7"
  },
  "orig_nbformat": 4,
  "vscode": {
   "interpreter": {
    "hash": "cc1d659a2716a17587a0ebb7437b558000400df242714a572373d2da3ca6f789"
   }
  }
 },
 "nbformat": 4,
 "nbformat_minor": 2
}
