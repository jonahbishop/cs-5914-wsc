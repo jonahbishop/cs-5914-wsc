{
 "cells": [
  {
   "cell_type": "code",
   "execution_count": 33,
   "metadata": {},
   "outputs": [],
   "source": [
    "import pandas as pd"
   ]
  },
  {
   "cell_type": "code",
   "execution_count": 34,
   "metadata": {},
   "outputs": [
    {
     "name": "stderr",
     "output_type": "stream",
     "text": [
      "c:\\Users\\reach\\anaconda3\\lib\\site-packages\\IPython\\core\\interactiveshell.py:3457: DtypeWarning: Columns (48,76,77,84) have mixed types.Specify dtype option on import or set low_memory=False.\n",
      "  exec(code_obj, self.user_global_ns, self.user_ns)\n"
     ]
    }
   ],
   "source": [
    "df = pd.read_csv('airline data/april_2019/On_Time_Reporting_Carrier_On_Time_Performance_(1987_present)_2019_4.csv')"
   ]
  },
  {
   "cell_type": "code",
   "execution_count": 35,
   "metadata": {},
   "outputs": [],
   "source": [
    "df_div = df.filter(like=\"Div\")\n",
    "removable = list(df_div.columns)\n",
    "df = df.drop(removable, axis=1)\n",
    "df = df.dropna(axis=1, how='all')"
   ]
  },
  {
   "cell_type": "code",
   "execution_count": 36,
   "metadata": {},
   "outputs": [],
   "source": [
    "def print_columns(df: pd.DataFrame):\n",
    "    for column in df.columns:\n",
    "        print(column)"
   ]
  },
  {
   "cell_type": "code",
   "execution_count": 37,
   "metadata": {},
   "outputs": [],
   "source": [
    "def get_data_by_airport(df: pd.DataFrame, city: str) -> pd.DataFrame:\n",
    "    return df[(df['Origin'].str.contains(city) == True)]\n"
   ]
  },
  {
   "cell_type": "code",
   "execution_count": 38,
   "metadata": {},
   "outputs": [],
   "source": [
    "cities = ['JFK', 'DFW', 'MCO', 'LAX', 'SEA']\n",
    "cleaned_df = pd.DataFrame()\n",
    "for city in cities:\n",
    "    cleaned_df = cleaned_df.append(get_data_by_airport(df, city))\n",
    "\n",
    "df = cleaned_df"
   ]
  },
  {
   "cell_type": "code",
   "execution_count": 39,
   "metadata": {},
   "outputs": [],
   "source": [
    "removables = [\n",
    "    'Year','Tail_Number', 'OriginAirportID',\n",
    "    'OriginAirportSeqID','OriginCityMarketID','OriginCityName',\n",
    "    'OriginState','OriginStateFips','OriginStateName','OriginWac', \n",
    "    'DestAirportID','DestAirportSeqID','DestCityMarketID',\n",
    "    'DestCityName','DestState','DestStateFips','DestStateName',\n",
    "    'DestWac','DepTime', 'DepDelayMinutes', 'DepDel15',\n",
    "    'DepartureDelayGroups','DepTimeBlk','WheelsOff','WheelsOn',\n",
    "    'CRSArrTime','ArrTime','ArrDelay','ArrDelayMinutes','ArrDel15',\n",
    "    'ArrivalDelayGroups','ArrTimeBlk','Cancelled','CancellationCode',\n",
    "    'Flights','CarrierDelay','WeatherDelay','NASDelay',\n",
    "    'SecurityDelay','LateAircraftDelay','FirstDepTime',\n",
    "    'TotalAddGTime','LongestAddGTime'\n",
    "]\n",
    "for remove in removables:\n",
    "    try:\n",
    "        df = df.drop(remove, axis=1)\n",
    "    except Exception as e:\n",
    "        print(f'Already Removed {remove} or {e}')"
   ]
  },
  {
   "cell_type": "code",
   "execution_count": 40,
   "metadata": {},
   "outputs": [],
   "source": [
    "def one_hot_encode(df: pd.DataFrame, column_name: str) -> pd.DataFrame:\n",
    "    try:\n",
    "        dummy1 = pd.get_dummies(df[column_name])\n",
    "        dummy1 = dummy1.add_prefix(f\"{column_name} - \")\n",
    "        df = pd.concat([df, dummy1], axis=1).drop(column_name, axis=1)\n",
    "        df.head()\n",
    "    except Exception as e:\n",
    "        print(f\"Error in one_hot_encode: {e}\")\n",
    "    return df"
   ]
  },
  {
   "cell_type": "code",
   "execution_count": 41,
   "metadata": {},
   "outputs": [],
   "source": [
    "one_hot_columns = [\n",
    "    'Reporting_Airline', 'IATA_CODE_Reporting_Airline', 'DOT_ID_Reporting_Airline', 'Dest'\n",
    "    ]\n",
    "for col in one_hot_columns:\n",
    "    df = one_hot_encode(df, col)"
   ]
  },
  {
   "cell_type": "code",
   "execution_count": 43,
   "metadata": {},
   "outputs": [],
   "source": [
    "df['DepDelay'] = [0 if temp <= 0 else 1 for temp in df['DepDelay']]"
   ]
  },
  {
   "cell_type": "code",
   "execution_count": 44,
   "metadata": {},
   "outputs": [],
   "source": [
    "df['label'] = df['DepDelay']\n",
    "df = df.drop('DepDelay', axis=1)"
   ]
  },
  {
   "cell_type": "code",
   "execution_count": 46,
   "metadata": {},
   "outputs": [],
   "source": [
    "weather_df = pd.read_csv('weather_data.csv')"
   ]
  },
  {
   "cell_type": "code",
   "execution_count": 47,
   "metadata": {},
   "outputs": [],
   "source": [
    "names = {\n",
    "    'LOS ANGELES INTERNATIONAL AIRPORT, CA US': 'LAX',\n",
    "    'SEATTLE TACOMA AIRPORT, WA US': 'SEA',\n",
    "    'ORLANDO INTERNATIONAL AIRPORT, FL US': 'MCO',\n",
    "    'BUENA VENTURA LAKES 6.0 ENE, FL US': 'MCO',\n",
    "    'DAL FTW WSCMO AIRPORT, TX US': 'DFW',\n",
    "    'JFK INTERNATIONAL AIRPORT, NY US': 'JFK',\n",
    "}\n",
    "weather_df['NAME'] = [names[var] for var in weather_df['NAME']]"
   ]
  },
  {
   "cell_type": "code",
   "execution_count": 48,
   "metadata": {},
   "outputs": [],
   "source": [
    "weather_removables = [\n",
    "    'STATION','AWND_ATTRIBUTES','DAPR','DAPR_ATTRIBUTES','MDPR',\n",
    "    'MDPR_ATTRIBUTES','PGTM', 'PGTM_ATTRIBUTES','TAVG_ATTRIBUTES',\n",
    "    'TMAX_ATTRIBUTES','TMIN_ATTRIBUTES','WDF2_ATTRIBUTES','WDF5_ATTRIBUTES',\n",
    "    'WSF2_ATTRIBUTES','WSF5_ATTRIBUTES','WT01','WT02','WT03','WT04','WT05',\n",
    "    'WT05_ATTRIBUTES','WT06','WT06_ATTRIBUTES','WT07','WT07_ATTRIBUTES',\n",
    "    'WT08','WT09','WT09_ATTRIBUTES' \n",
    "]\n",
    "for remove in weather_removables:\n",
    "    try:\n",
    "        weather_df = weather_df.drop(remove, axis=1)\n",
    "    except Exception as e:\n",
    "        print(f'Already Removed {remove} or {e}')"
   ]
  },
  {
   "cell_type": "code",
   "execution_count": 49,
   "metadata": {},
   "outputs": [],
   "source": [
    "weather_one_hot_columns = [\n",
    "    'PRCP_ATTRIBUTES','SNOW_ATTRIBUTES','SNWD_ATTRIBUTES','WT01_ATTRIBUTES',\n",
    "    'WT02_ATTRIBUTES','WT03_ATTRIBUTES','WT04_ATTRIBUTES','WT08_ATTRIBUTES'\n",
    "]\n",
    "for col in weather_one_hot_columns:\n",
    "    weather_df = one_hot_encode(weather_df, col)"
   ]
  },
  {
   "cell_type": "code",
   "execution_count": 152,
   "metadata": {},
   "outputs": [],
   "source": [
    "weather_df['DATE'] = pd.to_datetime(weather_df['DATE'])\n",
    "df['DATE'] = pd.to_datetime(df['DATE'])"
   ]
  },
  {
   "cell_type": "code",
   "execution_count": 59,
   "metadata": {},
   "outputs": [],
   "source": [
    "df = df.rename(columns={'Origin':'NAME', 'FlightDate':'DATE'})"
   ]
  },
  {
   "cell_type": "code",
   "execution_count": 160,
   "metadata": {},
   "outputs": [],
   "source": [
    "def join_by_date(df: pd.DataFrame, weather_df: pd.DataFrame, airport_name: str):\n",
    "    tmp = df.loc[df['NAME'] == airport_name]\n",
    "    tmp = tmp.drop(['NAME'], axis=1)\n",
    "    weather_tmp = weather_df.loc[weather_df['NAME'] == airport_name]\n",
    "    return pd.merge(tmp, weather_tmp, how='outer', on='DATE')"
   ]
  },
  {
   "cell_type": "code",
   "execution_count": 165,
   "metadata": {},
   "outputs": [
    {
     "name": "stdout",
     "output_type": "stream",
     "text": [
      "<class 'pandas.core.frame.DataFrame'>\n",
      "Int64Index: 75351 entries, 0 to 11220\n",
      "Columns: 316 entries, Quarter to NAME - SEA\n",
      "dtypes: float64(294), uint8(22)\n",
      "memory usage: 171.2 MB\n"
     ]
    }
   ],
   "source": [
    "cleaned_df = pd.DataFrame()\n",
    "for city in cities:\n",
    "    cleaned_df = cleaned_df.append(join_by_date(df, weather_df, city))\n",
    "\n",
    "cleaned_df = cleaned_df.drop(['DATE'], axis=1)\n",
    "cleaned_df = one_hot_encode(cleaned_df, 'NAME')"
   ]
  },
  {
   "cell_type": "code",
   "execution_count": 166,
   "metadata": {},
   "outputs": [],
   "source": [
    "cleaned_df.to_csv('cleaned_airline_data/clean_merge_april.csv')"
   ]
  },
  {
   "cell_type": "code",
   "execution_count": 278,
   "metadata": {},
   "outputs": [],
   "source": [
    "df = df.reset_index(drop=True)\n",
    "df = df.dropna(how='any')\n",
    "df.to_csv('cleaned_airline_data/clean_april.csv')"
   ]
  }
 ],
 "metadata": {
  "kernelspec": {
   "display_name": "Python 3.10.8 64-bit (microsoft store)",
   "language": "python",
   "name": "python3"
  },
  "language_info": {
   "codemirror_mode": {
    "name": "ipython",
    "version": 3
   },
   "file_extension": ".py",
   "mimetype": "text/x-python",
   "name": "python",
   "nbconvert_exporter": "python",
   "pygments_lexer": "ipython3",
   "version": "3.10.8"
  },
  "orig_nbformat": 4,
  "vscode": {
   "interpreter": {
    "hash": "8e25b4211ff7f41866ec2858593d57a3a177adb08b41a0d80c3bef35301a600d"
   }
  }
 },
 "nbformat": 4,
 "nbformat_minor": 2
}
